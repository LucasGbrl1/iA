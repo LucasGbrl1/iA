{
  "nbformat": 4,
  "nbformat_minor": 0,
  "metadata": {
    "colab": {
      "provenance": [],
      "mount_file_id": "1i8rXXn-3wOTifAogJBums-L-PetTW8zg",
      "authorship_tag": "ABX9TyP1Hqnm8XS7YQHf05Db+o+Q",
      "include_colab_link": true
    },
    "kernelspec": {
      "name": "python3",
      "display_name": "Python 3"
    },
    "language_info": {
      "name": "python"
    }
  },
  "cells": [
    {
      "cell_type": "markdown",
      "metadata": {
        "id": "view-in-github",
        "colab_type": "text"
      },
      "source": [
        "<a href=\"https://colab.research.google.com/github/LucasGbrl1/iA/blob/main/Projeto%20IEC.ipynb\" target=\"_parent\"><img src=\"https://colab.research.google.com/assets/colab-badge.svg\" alt=\"Open In Colab\"/></a>"
      ]
    },
    {
      "cell_type": "markdown",
      "source": [
        "Passo 1"
      ],
      "metadata": {
        "id": "FAgfR5qfduhv"
      }
    },
    {
      "cell_type": "code",
      "execution_count": 19,
      "metadata": {
        "colab": {
          "base_uri": "https://localhost:8080/"
        },
        "id": "jRCLDGV_apiS",
        "outputId": "49dcc02a-7f50-426b-f92e-fe72155e9600"
      },
      "outputs": [
        {
          "output_type": "stream",
          "name": "stdout",
          "text": [
            "['Dados de venda da Nintendo.xlsx', 'Dados de vendas PS e XBOX (1).xlsx']\n"
          ]
        }
      ],
      "source": [
        "import os\n",
        "import pandas as pd\n",
        "lista = os.listdir(\"/content/drive/MyDrive/Projeto IEC\")\n",
        "print(lista)"
      ]
    },
    {
      "cell_type": "code",
      "execution_count": null,
      "metadata": {
        "id": "vgD2eijNIE4T"
      },
      "outputs": [],
      "source": [
        "for arquivo in lista:\n",
        "    if \"PS\" in arquivo:\n",
        "            DadosPX = pd.read_excel('/content/drive/MyDrive/Projeto IEC/Dados de vendas PS e XBOX (1).xlsx')\n",
        "            display(DadosPX)\n",
        "\n",
        ""
      ]
    },
    {
      "cell_type": "code",
      "source": [
        "pasta = \"/content/drive/MyDrive/Projeto IEC/\"\n",
        "arquivos = os.listdir(pasta)\n",
        "\n",
        "for arquivo in arquivos:\n",
        "  if arquivo.endswith(\".xlsx\"):\n",
        "    dados = pd.read_excel(pasta + arquivo)\n",
        "    print(\"Arquivo:\", arquivo)\n",
        "    print(dados)\n"
      ],
      "metadata": {
        "id": "MLGVm29Cb_D7",
        "colab": {
          "base_uri": "https://localhost:8080/"
        },
        "outputId": "71a31322-cb6d-423e-a395-6472f9efe1ec"
      },
      "execution_count": 38,
      "outputs": [
        {
          "output_type": "stream",
          "name": "stdout",
          "text": [
            "Arquivo: Dados de venda da Nintendo.xlsx\n",
            "    EMPRESA                                    JOGOS  NUMEROS DE VENDAS\n",
            "0  NINTENDO                      Mario Kart 8 Deluxe           46820000\n",
            "1  NINTENDO            Animal Crossing: New Horizons           39380000\n",
            "2  NINTENDO               Super Smash Bros. Ultimate           28820000\n",
            "3  NINTENDO  The Legend of Zelda: Breath of The Wild           27140000\n",
            "4  NINTENDO                   Pokémon Sword & Shield           24500000\n",
            "Arquivo: Dados de vendas PS e XBOX (1).xlsx\n",
            "        EMPRESA                              JOGOS  NUMEROS DE VENDAS\n",
            "0  PlayStation                 Marvel’s Spider-Man           22680000\n",
            "1  PlayStation                         God of War            21000000\n",
            "2  PlayStation                 Horizon: Zero Dawn            19290000\n",
            "3  PlayStation                        Uncharted 4            18650000\n",
            "4  PlayStation                      The Last of Us           18630000\n",
            "5          Xbox                  Halo 5: Guardians           13300000\n",
            "6          Xbox                    Forza Horizon 4           12000000\n",
            "7          Xbox  Halo: The Master Chief Collection            8000000\n",
            "8          Xbox                    Gears of War 4             2600000\n",
            "9          Xbox                    Forza Horizon 3            2500000\n"
          ]
        }
      ]
    },
    {
      "cell_type": "code",
      "source": [
        "pasta = \"/content/drive/MyDrive/Projeto IEC/\"\n",
        "arquivos = os.listdir(pasta)\n",
        "dados = pd.DataFrame()\n",
        "\n",
        "for arquivo in arquivos:\n",
        "  if arquivo.endswith(\".xlsx\"):\n",
        "    df = pd.read_excel(pasta + arquivo)\n",
        "    dados = pd.concat([dados, df])\n",
        "\n",
        "dados_ordenados = dados.sort_values(by=\"NUMEROS DE VENDAS\", ascending=False)\n",
        "print(dados_ordenados)\n"
      ],
      "metadata": {
        "id": "pXsK0sL2quQi",
        "colab": {
          "base_uri": "https://localhost:8080/"
        },
        "outputId": "803c6960-54aa-434a-a27e-255de2bc27e7"
      },
      "execution_count": 26,
      "outputs": [
        {
          "output_type": "stream",
          "name": "stdout",
          "text": [
            "        EMPRESA                                    JOGOS  NUMEROS DE VENDAS\n",
            "0      NINTENDO                      Mario Kart 8 Deluxe           46820000\n",
            "1      NINTENDO            Animal Crossing: New Horizons           39380000\n",
            "2      NINTENDO               Super Smash Bros. Ultimate           28820000\n",
            "3      NINTENDO  The Legend of Zelda: Breath of The Wild           27140000\n",
            "4      NINTENDO                   Pokémon Sword & Shield           24500000\n",
            "0  PlayStation                       Marvel’s Spider-Man           22680000\n",
            "1  PlayStation                               God of War            21000000\n",
            "2  PlayStation                       Horizon: Zero Dawn            19290000\n",
            "3  PlayStation                              Uncharted 4            18650000\n",
            "4  PlayStation                            The Last of Us           18630000\n",
            "5          Xbox                        Halo 5: Guardians           13300000\n",
            "6          Xbox                          Forza Horizon 4           12000000\n",
            "7          Xbox        Halo: The Master Chief Collection            8000000\n",
            "8          Xbox                          Gears of War 4             2600000\n",
            "9          Xbox                          Forza Horizon 3            2500000\n"
          ]
        }
      ]
    },
    {
      "cell_type": "code",
      "source": [
        "#Fazer a leitura de todos os arquivos dentro da pasta\n",
        "for arquivo in lista:\n",
        "    if \"IEC\" in arquivo:\n",
        "      Dados = pd.read_excel(f\"/content/drive/MyDrive/Projeto IEC/{Arquivo}\")\n",
        "      print(Dados)"
      ],
      "metadata": {
        "id": "mL-CZ7Vab-4Y"
      },
      "execution_count": 42,
      "outputs": []
    },
    {
      "cell_type": "code",
      "source": [
        "#Mostrar qual jogo vendeu mais de cada empresa\n",
        "\n",
        "pasta = '/content/drive/MyDrive/Projeto IEC/'\n",
        "arquivos = os.listdir(pasta)\n",
        "dados = pd.DataFrame()\n",
        "\n",
        "for arquivo in arquivos:\n",
        "    if arquivo.endswith('.xlsx'):\n",
        "        dados_do_arquivo = pd.read_excel(pasta + arquivo)\n",
        "        dados = pd.concat([dados, dados_do_arquivo])\n",
        "\n",
        "indices = dados.groupby('EMPRESA')['NUMERO DE VENDAS'].idxmax()\n",
        "dados_finais = dados.loc[indices, ['EMPRESA', 'JOGO', 'NUMERO DE VENDAS']]\n",
        "print(dados_finais)\n"
      ],
      "metadata": {
        "id": "oNyjkIa24UgP"
      },
      "execution_count": null,
      "outputs": []
    },
    {
      "cell_type": "code",
      "source": [
        "#Mostrar qual jogo vendeu mais de cada empresa\n",
        "\n",
        "pasta = '/content/drive/MyDrive/Projeto IEC/'\n",
        "arquivos = os.listdir(pasta)\n",
        "dados = pd.DataFrame()\n",
        "\n",
        "for arquivo in arquivos:\n",
        "    if arquivo.endswith('.xlsx'):\n",
        "        dados_do_arquivo = pd.read_excel(pasta + arquivo)\n",
        "        dados = pd.concat([dados, dados_do_arquivo])\n",
        "\n",
        "tabela_produtos = dados.groupby('EMPRESA').sum()\n",
        "tabela_produtos = tabela_produtos[[\"NUMERO DE VENDAS\"]].sort_values(by=\"2\", ascending=False)\n",
        "display(tabela_produtos)"
      ],
      "metadata": {
        "id": "ugH0bFULb_Kg"
      },
      "execution_count": null,
      "outputs": []
    },
    {
      "cell_type": "code",
      "source": [],
      "metadata": {
        "id": "TcMZadZhb_NS"
      },
      "execution_count": null,
      "outputs": []
    },
    {
      "cell_type": "code",
      "source": [],
      "metadata": {
        "id": "m6KUWcC-b_QF"
      },
      "execution_count": null,
      "outputs": []
    },
    {
      "cell_type": "code",
      "source": [],
      "metadata": {
        "id": "2ibQmyNPb_U1"
      },
      "execution_count": null,
      "outputs": []
    },
    {
      "cell_type": "code",
      "source": [],
      "metadata": {
        "id": "LISy0V7Xb_YT"
      },
      "execution_count": null,
      "outputs": []
    }
  ]
}